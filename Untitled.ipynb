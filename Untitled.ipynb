{
 "cells": [
  {
   "cell_type": "code",
   "execution_count": 1,
   "metadata": {},
   "outputs": [],
   "source": [
    "ewe_data = []\n",
    "with open('jw300.en-ee.ee',encoding=\"utf8\")as file:\n",
    "    #print(file)\n",
    "    line = file.readline()\n",
    "    #print(line.strip())\n",
    "    cnt = 1\n",
    "    while line:\n",
    "        #print(line)\n",
    "        ewe_data.append(line.strip())\n",
    "        line = file.readline()\n",
    "        cnt += 1"
   ]
  },
  {
   "cell_type": "code",
   "execution_count": 54,
   "metadata": {},
   "outputs": [
    {
     "data": {
      "text/plain": [
       "'Lododowo 8 : 33 gblɔ be ‘ ɖo to amehehe ’ ke menye be ‘ Woase le ame ɖokui me be wohe to na ye ’ o .'"
      ]
     },
     "execution_count": 54,
     "metadata": {},
     "output_type": "execute_result"
    }
   ],
   "source": [
    "ewe_data[24]"
   ]
  },
  {
   "cell_type": "code",
   "execution_count": 8,
   "metadata": {},
   "outputs": [],
   "source": [
    "english_data = []\n",
    "with open('jw300.en-ee.en',encoding=\"utf8\")as file:\n",
    "    #print(file)\n",
    "    line = file.readline()\n",
    "    #print(line.strip())\n",
    "    cnt = 1\n",
    "    while line:\n",
    "        #print(line)\n",
    "        english_data.append(line.strip())\n",
    "        line = file.readline()\n",
    "        cnt += 1"
   ]
  },
  {
   "cell_type": "code",
   "execution_count": null,
   "metadata": {},
   "outputs": [],
   "source": [
    "english_data"
   ]
  },
  {
   "cell_type": "code",
   "execution_count": 19,
   "metadata": {},
   "outputs": [],
   "source": [
    "def dispp(n):\n",
    "    print(english_data[n])\n",
    "    print(ewe_data[n])\n",
    "    \n",
    "    return None\n",
    "\n"
   ]
  },
  {
   "cell_type": "code",
   "execution_count": 26,
   "metadata": {},
   "outputs": [
    {
     "name": "stdout",
     "output_type": "stream",
     "text": [
      "“ Any physical punishment is emotionally abusive and should not be sanctioned . ” ​ — Parents Anonymous .\n",
      "“ Ameƒoƒo ɖesiaɖe gblẽa nu le ame ƒe seselelãme ŋu eye mele be woada asi ɖe edzi o . ” ​ —⁠ Dzila Siwo ƒe Ŋkɔwo Womeyɔ o .\n"
     ]
    }
   ],
   "source": [
    "dispp(3)"
   ]
  },
  {
   "cell_type": "code",
   "execution_count": null,
   "metadata": {},
   "outputs": [],
   "source": [
    "Ameƒoƒ"
   ]
  }
 ],
 "metadata": {
  "kernelspec": {
   "display_name": "Python 3",
   "language": "python",
   "name": "python3"
  },
  "language_info": {
   "codemirror_mode": {
    "name": "ipython",
    "version": 3
   },
   "file_extension": ".py",
   "mimetype": "text/x-python",
   "name": "python",
   "nbconvert_exporter": "python",
   "pygments_lexer": "ipython3",
   "version": "3.7.6"
  }
 },
 "nbformat": 4,
 "nbformat_minor": 4
}
