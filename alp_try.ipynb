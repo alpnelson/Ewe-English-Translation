{
 "cells": [
  {
   "cell_type": "markdown",
   "metadata": {},
   "source": [
    "# Here the file is read "
   ]
  },
  {
   "cell_type": "code",
   "execution_count": 1,
   "metadata": {},
   "outputs": [],
   "source": [
    "english_data = []\n",
    "with open('jw300.en-ee.en',encoding=\"utf8\") as file:\n",
    "\n",
    "    line = file.readline()\n",
    "    cnt = 1\n",
    "    while line:\n",
    "        english_data.append(line.strip())\n",
    "        line = file.readline()\n",
    "        cnt += 1\n",
    "\n",
    "\n",
    "ewe_data = []\n",
    "with open('jw300.en-ee.ee',encoding=\"utf8\") as file:\n",
    "\n",
    "    # twi=file.read()\n",
    "    line = file.readline()\n",
    "    cnt = 1\n",
    "    while line:\n",
    "        ewe_data.append(line.strip())\n",
    "        line = file.readline()\n",
    "        cnt += 1"
   ]
  },
  {
   "cell_type": "code",
   "execution_count": 3,
   "metadata": {},
   "outputs": [
    {
     "data": {
      "text/html": [
       "<div>\n",
       "<style scoped>\n",
       "    .dataframe tbody tr th:only-of-type {\n",
       "        vertical-align: middle;\n",
       "    }\n",
       "\n",
       "    .dataframe tbody tr th {\n",
       "        vertical-align: top;\n",
       "    }\n",
       "\n",
       "    .dataframe thead th {\n",
       "        text-align: right;\n",
       "    }\n",
       "</style>\n",
       "<table border=\"1\" class=\"dataframe\">\n",
       "  <thead>\n",
       "    <tr style=\"text-align: right;\">\n",
       "      <th></th>\n",
       "      <th>Ewe</th>\n",
       "      <th>English</th>\n",
       "    </tr>\n",
       "  </thead>\n",
       "  <tbody>\n",
       "    <tr>\n",
       "      <th>0</th>\n",
       "      <td>Biblia Ƒe Nukpɔsusu</td>\n",
       "      <td>The Bible’s Viewpoint</td>\n",
       "    </tr>\n",
       "    <tr>\n",
       "      <th>1</th>\n",
       "      <td>“ Ameƒoti La ” ​ — Tsigãdzinu Yea ?</td>\n",
       "      <td>“ The Rod of Discipline ” ​ — Is It Out - ​ of...</td>\n",
       "    </tr>\n",
       "    <tr>\n",
       "      <th>2</th>\n",
       "      <td>“ Ne bometsitsi bla ɖe ŋutsuvi ƒe dzi ŋu la , ...</td>\n",
       "      <td>“ Foolishness is tied up with the heart of a b...</td>\n",
       "    </tr>\n",
       "    <tr>\n",
       "      <th>3</th>\n",
       "      <td>“ Ameƒoƒo ɖesiaɖe gblẽa nu le ame ƒe seselelãm...</td>\n",
       "      <td>“ Any physical punishment is emotionally abusi...</td>\n",
       "    </tr>\n",
       "    <tr>\n",
       "      <th>4</th>\n",
       "      <td>“ AMEƑOTI ” si Biblia yɔ la hea nyaʋi­ʋli vevi...</td>\n",
       "      <td>THE BIBLE’S mention of “ the rod of discipline...</td>\n",
       "    </tr>\n",
       "    <tr>\n",
       "      <th>5</th>\n",
       "      <td>Gɔmesese le esia ŋu , elabena ƒe sia ƒe la ɖev...</td>\n",
       "      <td>This is understandable , for each year thousan...</td>\n",
       "    </tr>\n",
       "    <tr>\n",
       "      <th>6</th>\n",
       "      <td>Ðewohĩ esia tae Biblia me ɖegbalẽ aɖe gblɔ be ...</td>\n",
       "      <td>Perhaps this is why one Bible commentary passe...</td>\n",
       "    </tr>\n",
       "    <tr>\n",
       "      <th>7</th>\n",
       "      <td>Gake menye dekɔnu ƒe nukpɔsusuwoe ʋã ame woŋlɔ...</td>\n",
       "      <td>But cultural opinions did not inspire the Bibl...</td>\n",
       "    </tr>\n",
       "    <tr>\n",
       "      <th>8</th>\n",
       "      <td>Ðe nunya mele eƒe nya siwo wògblɔ le “ ameƒoti...</td>\n",
       "      <td>Are its comments on “ the rod of discipline ” ...</td>\n",
       "    </tr>\n",
       "    <tr>\n",
       "      <th>9</th>\n",
       "      <td>Ele vevie be míadzro nusi “ ameƒoti ” fia la me .</td>\n",
       "      <td>It is important that we examine “ the rod ” in...</td>\n",
       "    </tr>\n",
       "  </tbody>\n",
       "</table>\n",
       "</div>"
      ],
      "text/plain": [
       "                                                 Ewe  \\\n",
       "0                                Biblia Ƒe Nukpɔsusu   \n",
       "1                “ Ameƒoti La ” ​ — Tsigãdzinu Yea ?   \n",
       "2  “ Ne bometsitsi bla ɖe ŋutsuvi ƒe dzi ŋu la , ...   \n",
       "3  “ Ameƒoƒo ɖesiaɖe gblẽa nu le ame ƒe seselelãm...   \n",
       "4  “ AMEƑOTI ” si Biblia yɔ la hea nyaʋi­ʋli vevi...   \n",
       "5  Gɔmesese le esia ŋu , elabena ƒe sia ƒe la ɖev...   \n",
       "6  Ðewohĩ esia tae Biblia me ɖegbalẽ aɖe gblɔ be ...   \n",
       "7  Gake menye dekɔnu ƒe nukpɔsusuwoe ʋã ame woŋlɔ...   \n",
       "8  Ðe nunya mele eƒe nya siwo wògblɔ le “ ameƒoti...   \n",
       "9  Ele vevie be míadzro nusi “ ameƒoti ” fia la me .   \n",
       "\n",
       "                                             English  \n",
       "0                              The Bible’s Viewpoint  \n",
       "1  “ The Rod of Discipline ” ​ — Is It Out - ​ of...  \n",
       "2  “ Foolishness is tied up with the heart of a b...  \n",
       "3  “ Any physical punishment is emotionally abusi...  \n",
       "4  THE BIBLE’S mention of “ the rod of discipline...  \n",
       "5  This is understandable , for each year thousan...  \n",
       "6  Perhaps this is why one Bible commentary passe...  \n",
       "7  But cultural opinions did not inspire the Bibl...  \n",
       "8  Are its comments on “ the rod of discipline ” ...  \n",
       "9  It is important that we examine “ the rod ” in...  "
      ]
     },
     "execution_count": 3,
     "metadata": {},
     "output_type": "execute_result"
    }
   ],
   "source": [
    "import pandas as pd\n",
    "df = pd.DataFrame({'Ewe': ewe_data, 'English': english_data})\n",
    "df.head(10)"
   ]
  },
  {
   "cell_type": "code",
   "execution_count": null,
   "metadata": {},
   "outputs": [],
   "source": []
  }
 ],
 "metadata": {
  "kernelspec": {
   "display_name": "Python 3 (ipykernel)",
   "language": "python",
   "name": "python3"
  },
  "language_info": {
   "codemirror_mode": {
    "name": "ipython",
    "version": 3
   },
   "file_extension": ".py",
   "mimetype": "text/x-python",
   "name": "python",
   "nbconvert_exporter": "python",
   "pygments_lexer": "ipython3",
   "version": "3.9.13"
  },
  "vscode": {
   "interpreter": {
    "hash": "c8445f9b3c53a71c232938e254e8d2a0e507408cf0a93a1d7a32f01be2186cee"
   }
  }
 },
 "nbformat": 4,
 "nbformat_minor": 4
}
