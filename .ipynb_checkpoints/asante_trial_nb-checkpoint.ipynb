{
 "cells": [
  {
   "cell_type": "code",
   "execution_count": 1,
   "id": "787d4830-f6a4-4b4b-8ca7-9eb977b947a6",
   "metadata": {},
   "outputs": [],
   "source": [
    "def read_dataset(number):\n",
    "\n",
    "    english_data = []\n",
    "    with open('jw300.en-ee.en', 'r+b') as file:\n",
    "\n",
    "        lines = file.readlines()\n",
    "        cnt = 1\n",
    "        for i in range(min(number, len(lines))):\n",
    "            english_data.append(lines[i].decode('utf-8').strip())\n",
    "\n",
    "    ewe_data = []\n",
    "    with open('jw300.en-ee.ee', 'r+b') as file:\n",
    "\n",
    "        # ewe=file.read()\n",
    "        lines = file.readlines()\n",
    "        cnt = 1\n",
    "        for i in range(min(number, len(lines))):\n",
    "            ewe_data.append(lines[i].decode('utf-8').strip())\n",
    "        \n",
    "\n",
    "    return english_data,ewe_data\n",
    "    # return english_data,ewe_data÷"
   ]
  },
  {
   "cell_type": "code",
   "execution_count": 9,
   "id": "101becc3-1b38-48ad-9303-c6dba03f7d13",
   "metadata": {},
   "outputs": [
    {
     "data": {
      "text/plain": [
       "(['The Bible’s Viewpoint',\n",
       "  '“ The Rod of Discipline ” \\u200b — Is It Out - \\u200b of - \\u200b Date ?'],\n",
       " ['Biblia Ƒe Nukpɔsusu', '“ Ameƒoti La ” \\u200b — Tsigãdzinu Yea ?'])"
      ]
     },
     "execution_count": 9,
     "metadata": {},
     "output_type": "execute_result"
    }
   ],
   "source": [
    "read_dataset(number = 2)"
   ]
  },
  {
   "cell_type": "code",
   "execution_count": 6,
   "id": "ad9ad4af-aa74-4732-8691-4cb3ad5b84d4",
   "metadata": {},
   "outputs": [
    {
     "name": "stdout",
     "output_type": "stream",
     "text": [
      "0\n",
      "1\n",
      "2\n"
     ]
    }
   ],
   "source": [
    "for i in range(0, 3):\n",
    "    print(i)"
   ]
  }
 ],
 "metadata": {
  "kernelspec": {
   "display_name": "Python 3 (ipykernel)",
   "language": "python",
   "name": "python3"
  },
  "language_info": {
   "codemirror_mode": {
    "name": "ipython",
    "version": 3
   },
   "file_extension": ".py",
   "mimetype": "text/x-python",
   "name": "python",
   "nbconvert_exporter": "python",
   "pygments_lexer": "ipython3",
   "version": "3.9.13"
  }
 },
 "nbformat": 4,
 "nbformat_minor": 5
}
