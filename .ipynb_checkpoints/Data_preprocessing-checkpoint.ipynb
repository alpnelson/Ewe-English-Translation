{
 "cells": [
  {
   "cell_type": "code",
   "execution_count": null,
   "metadata": {},
   "outputs": [],
   "source": [
    "#Data Processing\n",
    "import numpy as np\n",
    "import unicodedata\n",
    "import re\n",
    "import os\n",
    "\n",
    "\n",
    "def read_dataset(number):\n",
    "\n",
    "    english_data = []\n",
    "    with open('jw300.en-ee.en',encoding=\"utf8\") as file:\n",
    "\n",
    "        line = file.readline()\n",
    "        cnt = 1\n",
    "        while line:\n",
    "            english_data.append(line.strip())\n",
    "            line = file.readline()\n",
    "            cnt += 1\n",
    "\n",
    "\n",
    "    ewe_data = []\n",
    "    with open('jw300.en-ee.ee',encoding=\"utf8\") as file:\n",
    "\n",
    "        # twi=file.read()\n",
    "        line = file.readline()\n",
    "        cnt = 1\n",
    "        while line:\n",
    "            ewe_data.append(line.strip())\n",
    "            line = file.readline()\n",
    "            cnt += 1\n",
    "\n",
    "    return english_data[:number],ewe_data[:number]\n",
    "    # return english_data,twi_data\n",
    "\n",
    "def unicode_to_ascii(s):\n",
    "    return ''.join(\n",
    "        c for c in unicodedata.normalize('NFD', s)\n",
    "        if unicodedata.category(c) != 'Mn')\n",
    "\n",
    "\n",
    "def normalize_eng(s):\n",
    "    s = unicode_to_ascii(s)\n",
    "    s = re.sub(r'([!.?])', r' \\1', s)\n",
    "    s = re.sub(r'[^a-zA-Z.!?]+', r' ', s)\n",
    "    s = re.sub(r'\\s+', r' ', s)\n",
    "    return s\n",
    "\n",
    "def normalize_ewe(s):\n",
    "    s = unicode_to_ascii(s)\n",
    "    s = re.sub(r'([!.?])', r' \\1', s)\n",
    "    s = re.sub(r'[^a-zA-Z.ƆɔɛƐŊŋÐɖƒƑƲʋƔɣ!?’]+', r' ', s)\n",
    "    s = re.sub(r'\\s+', r' ', s)\n",
    "    return s\n",
    "\n",
    "\n"
   ]
  },
  {
   "cell_type": "code",
   "execution_count": 5,
   "metadata": {},
   "outputs": [],
   "source": [
    "raw_data_en,raw_data_ewe = read_dataset(100)\n",
    "raw_data_en = [normalize_eng(data) for data in raw_data_en]\n",
    "raw_data_ewe = [normalize_ewe(data) for data in raw_data_ewe]\n",
    "raw_data_ewe_in = ['<start> ' + normalize_ewe(data) for data in raw_data_ewe]\n",
    "raw_data_ewe_out = [normalize_ewe(data) + ' <end>' for data in raw_data_ewe]"
   ]
  },
  {
   "cell_type": "code",
   "execution_count": null,
   "metadata": {},
   "outputs": [
    {
     "data": {
      "text/plain": [
       "['The Bible s Viewpoint',\n",
       " ' The Rod of Discipline Is It Out of Date ?',\n",
       " ' Foolishness is tied up with the heart of a boy the rod of discipline is what will remove it far from him . Proverbs .',\n",
       " ' Any physical punishment is emotionally abusive and should not be sanctioned . Parents Anonymous .',\n",
       " 'THE BIBLE S mention of the rod of discipline ignites fiery controversy .']"
      ]
     },
     "execution_count": 6,
     "metadata": {},
     "output_type": "execute_result"
    }
   ],
   "source": [
    "raw_data_en[:20]"
   ]
  },
  {
   "cell_type": "code",
   "execution_count": 7,
   "metadata": {},
   "outputs": [
    {
     "data": {
      "text/plain": [
       "['Biblia Ƒe Nukpɔsusu',\n",
       " ' Ameƒoti La Tsigadzinu Yea ?',\n",
       " ' Ne bometsitsi bla ɖe ŋutsuvi ƒe dzi ŋu la ameƒoti afee ɖa le afima . Lododowo .',\n",
       " ' Ameƒoƒo ɖesiaɖe gblea nu le ame ƒe seselelame ŋu eye mele be woada asi ɖe edzi o . Dzila Siwo ƒe Ŋkɔwo Womeyɔ o .',\n",
       " ' AMEƑOTI si Biblia yɔ la hea nyaʋi ʋli vevie vɛ .']"
      ]
     },
     "execution_count": 7,
     "metadata": {},
     "output_type": "execute_result"
    }
   ],
   "source": [
    "raw_data_ewe[:5]"
   ]
  },
  {
   "cell_type": "code",
   "execution_count": 8,
   "metadata": {},
   "outputs": [
    {
     "data": {
      "text/plain": [
       "['<start> Biblia Ƒe Nukpɔsusu',\n",
       " '<start>  Ameƒoti La Tsigadzinu Yea ?',\n",
       " '<start>  Ne bometsitsi bla ɖe ŋutsuvi ƒe dzi ŋu la ameƒoti afee ɖa le afima . Lododowo .',\n",
       " '<start>  Ameƒoƒo ɖesiaɖe gblea nu le ame ƒe seselelame ŋu eye mele be woada asi ɖe edzi o . Dzila Siwo ƒe Ŋkɔwo Womeyɔ o .',\n",
       " '<start>  AMEƑOTI si Biblia yɔ la hea nyaʋi ʋli vevie vɛ .']"
      ]
     },
     "execution_count": 8,
     "metadata": {},
     "output_type": "execute_result"
    }
   ],
   "source": [
    "raw_data_ewe_in[:5]"
   ]
  },
  {
   "cell_type": "code",
   "execution_count": 9,
   "metadata": {},
   "outputs": [
    {
     "data": {
      "text/plain": [
       "['Biblia Ƒe Nukpɔsusu <end>',\n",
       " ' Ameƒoti La Tsigadzinu Yea ? <end>',\n",
       " ' Ne bometsitsi bla ɖe ŋutsuvi ƒe dzi ŋu la ameƒoti afee ɖa le afima . Lododowo . <end>',\n",
       " ' Ameƒoƒo ɖesiaɖe gblea nu le ame ƒe seselelame ŋu eye mele be woada asi ɖe edzi o . Dzila Siwo ƒe Ŋkɔwo Womeyɔ o . <end>',\n",
       " ' AMEƑOTI si Biblia yɔ la hea nyaʋi ʋli vevie vɛ . <end>']"
      ]
     },
     "execution_count": 9,
     "metadata": {},
     "output_type": "execute_result"
    }
   ],
   "source": [
    "raw_data_ewe_out[:5]"
   ]
  },
  {
   "cell_type": "code",
   "execution_count": 5,
   "metadata": {},
   "outputs": [],
   "source": [
    "\n",
    "    "
   ]
  },
  {
   "cell_type": "code",
   "execution_count": null,
   "metadata": {},
   "outputs": [],
   "source": []
  }
 ],
 "metadata": {
  "kernelspec": {
   "display_name": "Python 3.10.6 64-bit",
   "language": "python",
   "name": "python3"
  },
  "language_info": {
   "codemirror_mode": {
    "name": "ipython",
    "version": 3
   },
   "file_extension": ".py",
   "mimetype": "text/x-python",
   "name": "python",
   "nbconvert_exporter": "python",
   "pygments_lexer": "ipython3",
   "version": "3.7.6"
  },
  "vscode": {
   "interpreter": {
    "hash": "369f2c481f4da34e4445cda3fffd2e751bd1c4d706f27375911949ba6bb62e1c"
   }
  }
 },
 "nbformat": 4,
 "nbformat_minor": 4
}
